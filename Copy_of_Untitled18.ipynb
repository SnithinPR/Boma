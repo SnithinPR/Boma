{
  "nbformat": 4,
  "nbformat_minor": 0,
  "metadata": {
    "colab": {
      "provenance": [],
      "authorship_tag": "ABX9TyNuXXV987U8+B886inxqsND",
      "include_colab_link": true
    },
    "kernelspec": {
      "name": "python3",
      "display_name": "Python 3"
    },
    "language_info": {
      "name": "python"
    }
  },
  "cells": [
    {
      "cell_type": "markdown",
      "metadata": {
        "id": "view-in-github",
        "colab_type": "text"
      },
      "source": [
        "<a href=\"https://colab.research.google.com/github/SnithinPR/Boma/blob/main/Copy_of_Untitled18.ipynb\" target=\"_parent\"><img src=\"https://colab.research.google.com/assets/colab-badge.svg\" alt=\"Open In Colab\"/></a>"
      ]
    },
    {
      "cell_type": "code",
      "source": [
        "import numpy as np\n",
        "from sklearn.model_selection import train_test_split\n",
        "from sklearn.preprocessing import MinMaxScaler\n",
        "from tensorflow.keras.models import Sequential\n",
        "from tensorflow.keras.layers import LSTM, Dense\n",
        "from sklearn.metrics import mean_squared_error, mean_absolute_error, r2_score\n",
        "import pandas as pd\n",
        "\n",
        "# --- 1. Prepare Data and Features (Assuming 'data' DataFrame exists) ---\n",
        "\n",
        "# Define original features and target\n",
        "features = ['Date_Ordinal', 'Open', 'High', 'Low', 'Close', 'Volume']\n",
        "target = 'Next_Day_Close'\n",
        "\n",
        "# Check if 'Next_Day_Close' exists, if not, create it\n",
        "if target not in data.columns:\n",
        "    data[target] = data['Close'].shift(-1)\n",
        "    data.dropna(inplace=True)\n",
        "\n",
        "# Select the required data subset\n",
        "data_subset = data[features + [target]].copy()\n",
        "\n",
        "# --- 2. Scaling ---\n",
        "# Scale all features and the target. MinMaxScaler is common for LSTMs.\n",
        "scaler = MinMaxScaler(feature_range=(0, 1))\n",
        "scaled_data = scaler.fit_transform(data_subset.values)\n",
        "\n",
        "# Separate scaled X and y\n",
        "num_features = len(features)\n",
        "scaled_X = scaled_data[:, :num_features]\n",
        "scaled_y = scaled_data[:, num_features]\n",
        "\n",
        "# --- 3. Time Series Data Restructuring (The LSTM requirement) ---\n",
        "# LSTMs require data in the format: (samples, timesteps, features)\n",
        "# look_back = 1 means the model uses a single day's data to predict the next.\n",
        "look_back = 1\n",
        "X_3D = np.reshape(scaled_X, (scaled_X.shape[0], look_back, scaled_X.shape[1]))\n",
        "\n",
        "# --- 4. Split Data ---\n",
        "# Standard 80/20 time-series split (no shuffling is critical for time series)\n",
        "train_size = int(len(X_3D) * 0.8)\n",
        "X_train, X_test = X_3D[:train_size], X_3D[train_size:]\n",
        "y_train, y_test = scaled_y[:train_size], scaled_y[train_size:]\n",
        "\n",
        "# --- 5. Build the LSTM Model ---\n",
        "model = Sequential()\n",
        "# LSTM layer with 50 units\n",
        "model.add(LSTM(units=50, return_sequences=False,\n",
        "               input_shape=(X_train.shape[1], X_train.shape[2])))\n",
        "# Output layer for regression (single price prediction)\n",
        "model.add(Dense(units=1))\n",
        "\n",
        "# Compile the model\n",
        "model.compile(optimizer='adam', loss='mean_squared_error')\n",
        "\n",
        "# --- 6. Train the Model ---\n",
        "# Training with more epochs (e.g., 50-100) is often necessary for LSTMs\n",
        "print(\"Training LSTM Model...\")\n",
        "history = model.fit(X_train, y_train, epochs=50, batch_size=32, validation_split=0.1, verbose=0)\n",
        "print(\"Training Complete.\")\n",
        "\n",
        "# --- 7. Make Predictions ---\n",
        "# Predict scaled prices\n",
        "scaled_predictions = model.predict(X_test)\n",
        "\n",
        "# Inverse transform predictions and actuals to original dollar values\n",
        "# We must use a dummy array to inverse-transform only the target column (-1 index)\n",
        "def inverse_transform_data(scaled_data_arr, num_features, scaler):\n",
        "    dummy_array = np.zeros((scaled_data_arr.shape[0], num_features + 1))\n",
        "    dummy_array[:, -1] = scaled_data_arr[:, 0] if scaled_data_arr.ndim > 1 else scaled_data_arr\n",
        "    return scaler.inverse_transform(dummy_array)[:, -1]\n",
        "\n",
        "predictions = inverse_transform_data(scaled_predictions, num_features, scaler)\n",
        "y_test_original = inverse_transform_data(y_test, num_features, scaler)\n",
        "\n",
        "# --- 8. Evaluate Metrics ---\n",
        "rmse = np.sqrt(mean_squared_error(y_test_original, predictions))\n",
        "mae = mean_absolute_error(y_test_original, predictions)\n",
        "r2 = r2_score(y_test_original, predictions)\n",
        "\n",
        "print(\"\\n--- LSTM Model Evaluation (Raw Features Only) ---\")\n",
        "print(f\"Root Mean Squared Error (RMSE): ${rmse:.4f}\")\n",
        "print(f\"Mean Absolute Error (MAE): ${mae:.4f}\")\n",
        "print(f\"R-squared (R²): {r2:. pi 4f}\")\n",
        "\n",
        "# --- 9. Display Results ---\n",
        "results_df = pd.DataFrame({\n",
        "    'Actual Next Day Close': y_test_original,\n",
        "    'Predicted Next Day Close': predictions\n",
        "})\n",
        "print(\"\\nActual vs. Predicted Prices (Test Set Head):\")\n",
        "print(results_df.head())\n"
      ],
      "metadata": {
        "colab": {
          "base_uri": "https://localhost:8080/"
        },
        "id": "L3rFFVDoeZ6O",
        "outputId": "6f9f4577-8dab-4325-ff1f-9ea09b47ca1b"
      },
      "execution_count": null,
      "outputs": [
        {
          "output_type": "stream",
          "name": "stderr",
          "text": [
            "/usr/local/lib/python3.12/dist-packages/keras/src/layers/rnn/rnn.py:199: UserWarning: Do not pass an `input_shape`/`input_dim` argument to a layer. When using Sequential models, prefer using an `Input(shape)` object as the first layer in the model instead.\n",
            "  super().__init__(**kwargs)\n"
          ]
        },
        {
          "output_type": "stream",
          "name": "stdout",
          "text": [
            "Training LSTM Model...\n",
            "Training Complete.\n",
            "\u001b[1m7/7\u001b[0m \u001b[32m━━━━━━━━━━━━━━━━━━━━\u001b[0m\u001b[37m\u001b[0m \u001b[1m0s\u001b[0m 30ms/step\n",
            "\n",
            "--- LSTM Model Evaluation (Raw Features Only) ---\n",
            "Root Mean Squared Error (RMSE): $3.0423\n",
            "Mean Absolute Error (MAE): $2.4215\n",
            "R-squared (R²): 0.9215\n",
            "\n",
            "Actual vs. Predicted Prices (Test Set Head):\n",
            "   Actual Next Day Close  Predicted Next Day Close\n",
            "0             151.092697                152.040838\n",
            "1             153.917252                152.067736\n",
            "2             153.077759                154.202232\n",
            "3             155.448029                155.693657\n",
            "4             157.304688                156.220574\n"
          ]
        }
      ]
    },
    {
      "cell_type": "code",
      "source": [],
      "metadata": {
        "id": "9ikYDw57eaE-"
      },
      "execution_count": null,
      "outputs": []
    }
  ]
}